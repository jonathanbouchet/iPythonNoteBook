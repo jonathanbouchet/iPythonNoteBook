{
 "cells": [
  {
   "cell_type": "code",
   "execution_count": 17,
   "metadata": {
    "collapsed": false
   },
   "outputs": [],
   "source": [
    "# load data, graphics packages\n",
    "import numpy as np\n",
    "from pylab import *\n",
    "import seaborn as sns\n",
    "sns.set_style('whitegrid')\n",
    "import matplotlib.pyplot as plt\n",
    "%matplotlib inline"
   ]
  },
  {
   "cell_type": "code",
   "execution_count": 19,
   "metadata": {
    "collapsed": true
   },
   "outputs": [],
   "source": [
    "# load evaluation package\n",
    "from sklearn.metrics import r2_score"
   ]
  },
  {
   "cell_type": "code",
   "execution_count": 32,
   "metadata": {
    "collapsed": true
   },
   "outputs": [],
   "source": [
    "# generate random datasets\n",
    "np.random.seed(2)\n",
    "x = np.random.normal(3.0, 1.0, 100)\n",
    "y = np.random.normal(50.0, 30.0, 100) / x"
   ]
  },
  {
   "cell_type": "code",
   "execution_count": 33,
   "metadata": {
    "collapsed": true
   },
   "outputs": [],
   "source": [
    "# split x and y into train/test as 80/20 ratio\n",
    "trainX = x[:80]\n",
    "testX  = x[80:]\n",
    "\n",
    "trainY = y[:80]\n",
    "testY  = y[80:]"
   ]
  },
  {
   "cell_type": "code",
   "execution_count": 35,
   "metadata": {
    "collapsed": false
   },
   "outputs": [
    {
     "data": {
      "text/plain": [
       "(80, 20)"
      ]
     },
     "execution_count": 35,
     "metadata": {},
     "output_type": "execute_result"
    }
   ],
   "source": [
    "# check length of train/test samples\n",
    "len(trainX), len(testX)"
   ]
  },
  {
   "cell_type": "code",
   "execution_count": 36,
   "metadata": {
    "collapsed": true
   },
   "outputs": [],
   "source": [
    "# convert Series into numpy array and fit with a 8 degree pol. function\n",
    "X_train = np.array(trainX)\n",
    "Y_train = np.array(trainY)\n",
    "\n",
    "p8 = np.poly1d(np.polyfit(X_train, Y_train, 8))"
   ]
  },
  {
   "cell_type": "code",
   "execution_count": 37,
   "metadata": {
    "collapsed": false
   },
   "outputs": [
    {
     "data": {
      "image/png": "[encoded data removed]",
      "text/plain": [
       "<matplotlib.figure.Figure at 0x10afc92d0>"
      ]
     },
     "metadata": {},
     "output_type": "display_data"
    }
   ],
   "source": [
    "# plot train sample with the fit function\n",
    "xp = np.linspace(0, 7, 100)\n",
    "axes = plt.axes()\n",
    "axes.set_xlim([0,7])\n",
    "axes.set_ylim([0, 200])\n",
    "plt.scatter(X_train, Y_train)\n",
    "plt.plot(xp, p8(xp), c='r')\n",
    "plt.show()"
   ]
  },
  {
   "cell_type": "code",
   "execution_count": 38,
   "metadata": {
    "collapsed": true
   },
   "outputs": [],
   "source": [
    "# make numpy array of the test samples\n",
    "X_test = np.array(testX)\n",
    "Y_test = np.array(testY)"
   ]
  },
  {
   "cell_type": "code",
   "execution_count": 39,
   "metadata": {
    "collapsed": false
   },
   "outputs": [
    {
     "name": "stdout",
     "output_type": "stream",
     "text": [
      "0.300181686119\n"
     ]
    }
   ],
   "source": [
    "# evaluate the fit function with the test sample\n",
    "r2 = r2_score(Y_test, p8(X_test))\n",
    "print r2"
   ]
  },
  {
   "cell_type": "code",
   "execution_count": 40,
   "metadata": {
    "collapsed": true
   },
   "outputs": [],
   "source": [
    "# loop over degree, fit and append an array with results"
   ]
  },
  {
   "cell_type": "code",
   "execution_count": 41,
   "metadata": {
    "collapsed": false
   },
   "outputs": [
    {
     "name": "stdout",
     "output_type": "stream",
     "text": [
      "0 -0.0334054228542\n",
      "1 0.422541406799\n",
      "2 0.293503179378\n",
      "3 0.272743114752\n",
      "4 0.393626926099\n",
      "5 0.504072389719\n",
      "6 0.605011947036\n",
      "7 0.546145145289\n",
      "8 0.300181686119\n",
      "9 0.216155095656\n",
      "10 0.224851678147\n",
      "11 0.268177652426\n",
      "12 0.0595268045397\n",
      "13 0.225960582962\n",
      "14 0.293772213857\n"
     ]
    }
   ],
   "source": [
    "fitVal= range(0,15)\n",
    "resVal=[]\n",
    "for expo in fitVal:\n",
    "    fit = np.poly1d(np.polyfit(X_train, Y_train, expo))\n",
    "    res = r2_score(Y_test, fit(X_test))\n",
    "    print expo,res\n",
    "    resVal.append(res)"
   ]
  },
  {
   "cell_type": "code",
   "execution_count": 27,
   "metadata": {
    "collapsed": true
   },
   "outputs": [],
   "source": [
    "# plot result"
   ]
  },
  {
   "cell_type": "code",
   "execution_count": 28,
   "metadata": {
    "collapsed": false
   },
   "outputs": [
    {
     "data": {
      "text/plain": [
       "<matplotlib.text.Text at 0x10b94b390>"
      ]
     },
     "execution_count": 28,
     "metadata": {},
     "output_type": "execute_result"
    },
    {
     "data": {
      "image/png": "[encoded data removed]",
      "text/plain": [
       "<matplotlib.figure.Figure at 0x10aeb9950>"
      ]
     },
     "metadata": {},
     "output_type": "display_data"
    }
   ],
   "source": [
    "plt.plot(fitVal, resVal)\n",
    "plt.xlabel('polynom expo')\n",
    "plt.ylabel('R-squared')"
   ]
  },
  {
   "cell_type": "code",
   "execution_count": 42,
   "metadata": {
    "collapsed": true
   },
   "outputs": [],
   "source": [
    "# now repeat with a larger dataset"
   ]
  },
  {
   "cell_type": "code",
   "execution_count": 109,
   "metadata": {
    "collapsed": true
   },
   "outputs": [],
   "source": [
    "np.random.seed(2)\n",
    "xx = np.random.normal(3.0, 1.0, 1000)\n",
    "yy = np.random.normal(50.0, 30.0, 1000) / xx\n",
    "\n",
    "trainXX = xx[100:]\n",
    "testXX  = xx[:100]\n",
    "trainYY = yy[100:]\n",
    "testYY  = yy[:100]"
   ]
  },
  {
   "cell_type": "code",
   "execution_count": 110,
   "metadata": {
    "collapsed": false
   },
   "outputs": [
    {
     "data": {
      "text/plain": [
       "(900, 100)"
      ]
     },
     "execution_count": 110,
     "metadata": {},
     "output_type": "execute_result"
    }
   ],
   "source": [
    "len(trainXX), len(testXX)"
   ]
  },
  {
   "cell_type": "code",
   "execution_count": 111,
   "metadata": {
    "collapsed": true
   },
   "outputs": [],
   "source": [
    "XX_train = np.array(trainXX)\n",
    "YY_train = np.array(trainYY)\n",
    "XX_test  = np.array(testXX)\n",
    "YY_test  = np.array(testYY)"
   ]
  },
  {
   "cell_type": "code",
   "execution_count": 112,
   "metadata": {
    "collapsed": false
   },
   "outputs": [
    {
     "name": "stdout",
     "output_type": "stream",
     "text": [
      "0 -0.0193945785954\n",
      "1 0.270884624483\n",
      "2 0.437803432147\n",
      "3 0.551457499653\n",
      "4 0.626785136485\n",
      "5 0.687346684425\n",
      "6 0.729798450725\n",
      "7 0.744631261198\n",
      "8 0.724909338871\n",
      "9 0.656193768488\n",
      "10 0.649072088518\n",
      "11 0.706114359372\n",
      "12 0.746719333582\n",
      "13 0.684961492095\n",
      "14 0.592799351327\n"
     ]
    }
   ],
   "source": [
    "fitVal= range(0,15)\n",
    "resVal2=[]\n",
    "for expo in fitVal:\n",
    "    fit = np.poly1d(np.polyfit(XX_train, YY_train, expo))\n",
    "    res2 = r2_score(YY_test, fit(XX_test))\n",
    "    print expo,res2\n",
    "    resVal2.append(res2)"
   ]
  },
  {
   "cell_type": "code",
   "execution_count": 113,
   "metadata": {
    "collapsed": false
   },
   "outputs": [
    {
     "data": {
      "text/plain": [
       "<matplotlib.legend.Legend at 0x10ebb97d0>"
      ]
     },
     "execution_count": 113,
     "metadata": {},
     "output_type": "execute_result"
    },
    {
     "data": {
      "image/png": "[encoded data removed]",
      "text/plain": [
       "<matplotlib.figure.Figure at 0x10e8a1dd0>"
      ]
     },
     "metadata": {},
     "output_type": "display_data"
    }
   ],
   "source": [
    "plt.plot(fitVal, resVal,c='r')\n",
    "plt.plot(fitVal, resVal2,c='g')\n",
    "plt.xlabel('polynom expo')\n",
    "plt.ylabel('R-squared')\n",
    "plt.legend(['data = 100 points', 'data = 1000 points'], loc='lower left')"
   ]
  },
  {
   "cell_type": "code",
   "execution_count": 114,
   "metadata": {
    "collapsed": false,
    "scrolled": true
   },
   "outputs": [
    {
     "data": {
      "text/plain": [
       "<matplotlib.collections.PathCollection at 0x10ecf8e10>"
      ]
     },
     "execution_count": 114,
     "metadata": {},
     "output_type": "execute_result"
    },
    {
     "data": {
      "image/png": "[encoded data removed]",
      "text/plain": [
       "<matplotlib.figure.Figure at 0x10e8ad850>"
      ]
     },
     "metadata": {},
     "output_type": "display_data"
    }
   ],
   "source": [
    "scatter(xx, yy)"
   ]
  },
  {
   "cell_type": "markdown",
   "metadata": {},
   "source": [
    "## comments\n",
    "<ul>\n",
    "<li> for the same seed (2), a dataset 10x bigger gives, as expected, better fluctuations\n",
    "<li> for this same seed (2), a value around 6 to 8 seems to give the best r-squared\n",
    "<li> when changing the seed to another value (3), the results for the larger dataset are quite different\n",
    "<li> the reason may be because the x,y plot is different (see above) and present outlier (even negative value sometimes), then the fit fails\n",
    "</ul>"
   ]
  },
  {
   "cell_type": "code",
   "execution_count": null,
   "metadata": {
    "collapsed": true
   },
   "outputs": [],
   "source": []
  }
 ],
 "metadata": {
  "kernelspec": {
   "display_name": "Python 2",
   "language": "python",
   "name": "python2"
  },
  "language_info": {
   "codemirror_mode": {
    "name": "ipython",
    "version": 2
   },
   "file_extension": ".py",
   "mimetype": "text/x-python",
   "name": "python",
   "nbconvert_exporter": "python",
   "pygments_lexer": "ipython2",
   "version": "2.7.11"
  }
 },
 "nbformat": 4,
 "nbformat_minor": 0
}
